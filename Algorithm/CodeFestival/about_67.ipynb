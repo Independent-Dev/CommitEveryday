{
 "cells": [
  {
   "cell_type": "code",
   "execution_count": 1,
   "metadata": {},
   "outputs": [],
   "source": [
    "def solution(n):\n",
    "    people = 0\n",
    "    total = 0\n",
    "    while(True):\n",
    "        total = people*(people-1)/2\n",
    "        if n<total:\n",
    "            break\n",
    "        people+=1\n",
    "    times = int(people-(total-n)-1)\n",
    "    return [times,people]"
   ]
  },
  {
   "cell_type": "code",
   "execution_count": null,
   "metadata": {},
   "outputs": [],
   "source": [
    "%%time\n",
    "print(solution(10000058))"
   ]
  },
  {
   "cell_type": "code",
   "execution_count": 2,
   "metadata": {},
   "outputs": [
    {
     "name": "stdout",
     "output_type": "stream",
     "text": [
      "[2902, 4473]\n",
      "CPU times: user 1.33 ms, sys: 100 µs, total: 1.43 ms\n",
      "Wall time: 1.38 ms\n"
     ]
    }
   ],
   "source": []
  },
  {
   "cell_type": "code",
   "execution_count": 3,
   "metadata": {},
   "outputs": [
    {
     "name": "stdout",
     "output_type": "stream",
     "text": [
      "output : 2902, 4473\n",
      "CPU times: user 336 µs, sys: 388 µs, total: 724 µs\n",
      "Wall time: 741 µs\n"
     ]
    }
   ],
   "source": [
    "%%time\n",
    "n = 10000058\n",
    "count = int((n*2)**0.5)\n",
    "result = n-count*(count-1)/2\n",
    "\n",
    "if result > count:\n",
    "    count+=1\n",
    "    result = n - count * (count - 1) / 2\n",
    "\n",
    "print(f'output : {int(result)}, {count+1}')"
   ]
  },
  {
   "cell_type": "code",
   "execution_count": 4,
   "metadata": {},
   "outputs": [
    {
     "name": "stdout",
     "output_type": "stream",
     "text": [
      "[38536, 44722]\n",
      "CPU times: user 14.4 ms, sys: 453 µs, total: 14.9 ms\n",
      "Wall time: 17.7 ms\n"
     ]
    }
   ],
   "source": [
    "%%time\n",
    "print(solution(1000000096))"
   ]
  },
  {
   "cell_type": "code",
   "execution_count": 5,
   "metadata": {},
   "outputs": [
    {
     "name": "stdout",
     "output_type": "stream",
     "text": [
      "output : 38536, 44722\n",
      "CPU times: user 321 µs, sys: 221 µs, total: 542 µs\n",
      "Wall time: 368 µs\n"
     ]
    }
   ],
   "source": [
    "%%time\n",
    "n = 1000000096\n",
    "count = int((n*2)**0.5)\n",
    "result = n-count*(count-1)/2\n",
    "\n",
    "if result > count:\n",
    "    count+=1\n",
    "    result = n - count * (count - 1) / 2\n",
    "\n",
    "print(f'output : {int(result)}, {count+1}')"
   ]
  },
  {
   "cell_type": "code",
   "execution_count": null,
   "metadata": {},
   "outputs": [],
   "source": []
  }
 ],
 "metadata": {
  "kernelspec": {
   "display_name": "Python 3",
   "language": "python",
   "name": "python3"
  },
  "language_info": {
   "codemirror_mode": {
    "name": "ipython",
    "version": 3
   },
   "file_extension": ".py",
   "mimetype": "text/x-python",
   "name": "python",
   "nbconvert_exporter": "python",
   "pygments_lexer": "ipython3",
   "version": "3.7.4"
  }
 },
 "nbformat": 4,
 "nbformat_minor": 2
}
